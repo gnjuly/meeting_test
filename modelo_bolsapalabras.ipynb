{
 "cells": [
  {
   "cell_type": "code",
   "execution_count": 1,
   "metadata": {},
   "outputs": [],
   "source": [
    "import pandas as pd\n",
    "import nltk\n",
    "from datafunction import open_discursos, token_clean, datos_discursos, procesamiento_palabras\n",
    "\n",
    "# Modelo k-means\n",
    "from sklearn.cluster import KMeans\n",
    "\n",
    "# NLP\n",
    "from sklearn.feature_extraction.text import CountVectorizer\n",
    "from sklearn.feature_extraction.text import TfidfVectorizer\n",
    "\n",
    "# Gráficos\n",
    "import matplotlib.pyplot as plt\n",
    "import seaborn as sns\n",
    "import numpy as np\n",
    "import plotly.express as px"
   ]
  },
  {
   "cell_type": "code",
   "execution_count": 2,
   "metadata": {},
   "outputs": [],
   "source": [
    "# Importar Bolsa de palabras dividida por temática\n",
    "df_bolsa_div = pd.read_csv('Bolsa_palabras_div.csv')\n",
    "\n",
    "# Reemplazar los nulos por 0\n",
    "df_bolsa_div = df_bolsa_div.fillna(0)\n",
    "\n",
    "# Obtener un diccionario del DataFrame de la bolsa de palabras dividida por temática\n",
    "dict_bolsa_div = df_bolsa_div.to_dict('list')"
   ]
  },
  {
   "cell_type": "code",
   "execution_count": 3,
   "metadata": {},
   "outputs": [],
   "source": [
    "# Lista limpia de palabras de cada tema\n",
    "palabras_agrupadas = list()\n",
    "for colum_temas in dict_bolsa_div.values():\n",
    "    palabras=list()\n",
    "    for palabra_tema in colum_temas:\n",
    "        if palabra_tema != 0:\n",
    "            palabras.append(palabra_tema)\n",
    "    palabras_agrupadas.append(palabras)\n",
    "            \n",
    "# palabras_agrupadas   "
   ]
  },
  {
   "cell_type": "code",
   "execution_count": 4,
   "metadata": {},
   "outputs": [
    {
     "name": "stderr",
     "output_type": "stream",
     "text": [
      "c:\\Users\\Ranchos\\AppData\\Local\\Programs\\Python\\Python310\\lib\\site-packages\\sklearn\\utils\\deprecation.py:87: FutureWarning: Function get_feature_names is deprecated; get_feature_names is deprecated in 1.0 and will be removed in 1.2. Please use get_feature_names_out instead.\n",
      "  warnings.warn(msg, category=FutureWarning)\n"
     ]
    },
    {
     "data": {
      "text/html": [
       "<div>\n",
       "<style scoped>\n",
       "    .dataframe tbody tr th:only-of-type {\n",
       "        vertical-align: middle;\n",
       "    }\n",
       "\n",
       "    .dataframe tbody tr th {\n",
       "        vertical-align: top;\n",
       "    }\n",
       "\n",
       "    .dataframe thead th {\n",
       "        text-align: right;\n",
       "    }\n",
       "</style>\n",
       "<table border=\"1\" class=\"dataframe\">\n",
       "  <thead>\n",
       "    <tr style=\"text-align: right;\">\n",
       "      <th></th>\n",
       "      <th>aborto</th>\n",
       "      <th>abuela</th>\n",
       "      <th>abuelas</th>\n",
       "      <th>abuelo</th>\n",
       "      <th>abuelos</th>\n",
       "      <th>abuso</th>\n",
       "      <th>abusos</th>\n",
       "      <th>acusaciones</th>\n",
       "      <th>adultos</th>\n",
       "      <th>agua</th>\n",
       "      <th>...</th>\n",
       "      <th>viejos</th>\n",
       "      <th>violaciones</th>\n",
       "      <th>violación</th>\n",
       "      <th>violar</th>\n",
       "      <th>violencia</th>\n",
       "      <th>violentos</th>\n",
       "      <th>vivienda</th>\n",
       "      <th>viviendas</th>\n",
       "      <th>víctimas</th>\n",
       "      <th>ética</th>\n",
       "    </tr>\n",
       "  </thead>\n",
       "  <tbody>\n",
       "    <tr>\n",
       "      <th>0</th>\n",
       "      <td>0.000000</td>\n",
       "      <td>0.000000</td>\n",
       "      <td>0.0</td>\n",
       "      <td>0.0</td>\n",
       "      <td>0.0</td>\n",
       "      <td>0.000000</td>\n",
       "      <td>0.0</td>\n",
       "      <td>0.000000</td>\n",
       "      <td>0.000000</td>\n",
       "      <td>0.031951</td>\n",
       "      <td>...</td>\n",
       "      <td>0.04597</td>\n",
       "      <td>0.0</td>\n",
       "      <td>0.000000</td>\n",
       "      <td>0.0</td>\n",
       "      <td>0.000000</td>\n",
       "      <td>0.0</td>\n",
       "      <td>0.038756</td>\n",
       "      <td>0.0</td>\n",
       "      <td>0.0</td>\n",
       "      <td>0.079162</td>\n",
       "    </tr>\n",
       "    <tr>\n",
       "      <th>1</th>\n",
       "      <td>0.000000</td>\n",
       "      <td>0.000000</td>\n",
       "      <td>0.0</td>\n",
       "      <td>0.0</td>\n",
       "      <td>0.0</td>\n",
       "      <td>0.000000</td>\n",
       "      <td>0.0</td>\n",
       "      <td>0.042785</td>\n",
       "      <td>0.000000</td>\n",
       "      <td>0.000000</td>\n",
       "      <td>...</td>\n",
       "      <td>0.00000</td>\n",
       "      <td>0.0</td>\n",
       "      <td>0.000000</td>\n",
       "      <td>0.0</td>\n",
       "      <td>0.000000</td>\n",
       "      <td>0.0</td>\n",
       "      <td>0.000000</td>\n",
       "      <td>0.0</td>\n",
       "      <td>0.0</td>\n",
       "      <td>0.035781</td>\n",
       "    </tr>\n",
       "    <tr>\n",
       "      <th>2</th>\n",
       "      <td>0.000000</td>\n",
       "      <td>0.152175</td>\n",
       "      <td>0.0</td>\n",
       "      <td>0.0</td>\n",
       "      <td>0.0</td>\n",
       "      <td>0.076088</td>\n",
       "      <td>0.0</td>\n",
       "      <td>0.000000</td>\n",
       "      <td>0.000000</td>\n",
       "      <td>0.000000</td>\n",
       "      <td>...</td>\n",
       "      <td>0.00000</td>\n",
       "      <td>0.0</td>\n",
       "      <td>0.000000</td>\n",
       "      <td>0.0</td>\n",
       "      <td>0.042172</td>\n",
       "      <td>0.0</td>\n",
       "      <td>0.000000</td>\n",
       "      <td>0.0</td>\n",
       "      <td>0.0</td>\n",
       "      <td>0.000000</td>\n",
       "    </tr>\n",
       "    <tr>\n",
       "      <th>3</th>\n",
       "      <td>0.122917</td>\n",
       "      <td>0.000000</td>\n",
       "      <td>0.0</td>\n",
       "      <td>0.0</td>\n",
       "      <td>0.0</td>\n",
       "      <td>0.033038</td>\n",
       "      <td>0.0</td>\n",
       "      <td>0.118515</td>\n",
       "      <td>0.000000</td>\n",
       "      <td>0.020002</td>\n",
       "      <td>...</td>\n",
       "      <td>0.00000</td>\n",
       "      <td>0.0</td>\n",
       "      <td>0.039505</td>\n",
       "      <td>0.0</td>\n",
       "      <td>0.000000</td>\n",
       "      <td>0.0</td>\n",
       "      <td>0.000000</td>\n",
       "      <td>0.0</td>\n",
       "      <td>0.0</td>\n",
       "      <td>0.000000</td>\n",
       "    </tr>\n",
       "    <tr>\n",
       "      <th>4</th>\n",
       "      <td>0.000000</td>\n",
       "      <td>0.000000</td>\n",
       "      <td>0.0</td>\n",
       "      <td>0.0</td>\n",
       "      <td>0.0</td>\n",
       "      <td>0.000000</td>\n",
       "      <td>0.0</td>\n",
       "      <td>0.000000</td>\n",
       "      <td>0.024039</td>\n",
       "      <td>0.023471</td>\n",
       "      <td>...</td>\n",
       "      <td>0.00000</td>\n",
       "      <td>0.0</td>\n",
       "      <td>0.000000</td>\n",
       "      <td>0.0</td>\n",
       "      <td>0.000000</td>\n",
       "      <td>0.0</td>\n",
       "      <td>0.000000</td>\n",
       "      <td>0.0</td>\n",
       "      <td>0.0</td>\n",
       "      <td>0.000000</td>\n",
       "    </tr>\n",
       "  </tbody>\n",
       "</table>\n",
       "<p>5 rows × 466 columns</p>\n",
       "</div>"
      ],
      "text/plain": [
       "     aborto    abuela  abuelas  abuelo  abuelos     abuso  abusos  \\\n",
       "0  0.000000  0.000000      0.0     0.0      0.0  0.000000     0.0   \n",
       "1  0.000000  0.000000      0.0     0.0      0.0  0.000000     0.0   \n",
       "2  0.000000  0.152175      0.0     0.0      0.0  0.076088     0.0   \n",
       "3  0.122917  0.000000      0.0     0.0      0.0  0.033038     0.0   \n",
       "4  0.000000  0.000000      0.0     0.0      0.0  0.000000     0.0   \n",
       "\n",
       "   acusaciones   adultos      agua  ...   viejos  violaciones  violación  \\\n",
       "0     0.000000  0.000000  0.031951  ...  0.04597          0.0   0.000000   \n",
       "1     0.042785  0.000000  0.000000  ...  0.00000          0.0   0.000000   \n",
       "2     0.000000  0.000000  0.000000  ...  0.00000          0.0   0.000000   \n",
       "3     0.118515  0.000000  0.020002  ...  0.00000          0.0   0.039505   \n",
       "4     0.000000  0.024039  0.023471  ...  0.00000          0.0   0.000000   \n",
       "\n",
       "   violar  violencia  violentos  vivienda  viviendas  víctimas     ética  \n",
       "0     0.0   0.000000        0.0  0.038756        0.0       0.0  0.079162  \n",
       "1     0.0   0.000000        0.0  0.000000        0.0       0.0  0.035781  \n",
       "2     0.0   0.042172        0.0  0.000000        0.0       0.0  0.000000  \n",
       "3     0.0   0.000000        0.0  0.000000        0.0       0.0  0.000000  \n",
       "4     0.0   0.000000        0.0  0.000000        0.0       0.0  0.000000  \n",
       "\n",
       "[5 rows x 466 columns]"
      ]
     },
     "execution_count": 4,
     "metadata": {},
     "output_type": "execute_result"
    }
   ],
   "source": [
    "# TF-IDF de cada palabra de la bolsa de palabras de forma individual\n",
    "df_tfidf = procesamiento_palabras.palabra_tfidf(datos_discursos.discursos_bowf)\n",
    "df_tfidf.head()"
   ]
  },
  {
   "cell_type": "code",
   "execution_count": 5,
   "metadata": {},
   "outputs": [
    {
     "data": {
      "text/html": [
       "<div>\n",
       "<style scoped>\n",
       "    .dataframe tbody tr th:only-of-type {\n",
       "        vertical-align: middle;\n",
       "    }\n",
       "\n",
       "    .dataframe tbody tr th {\n",
       "        vertical-align: top;\n",
       "    }\n",
       "\n",
       "    .dataframe thead th {\n",
       "        text-align: right;\n",
       "    }\n",
       "</style>\n",
       "<table border=\"1\" class=\"dataframe\">\n",
       "  <thead>\n",
       "    <tr style=\"text-align: right;\">\n",
       "      <th></th>\n",
       "      <th>SANIDAD</th>\n",
       "      <th>NACIONALISMO</th>\n",
       "      <th>EDUCACIÓN</th>\n",
       "      <th>VIOLENCIA</th>\n",
       "      <th>FEMINISMO</th>\n",
       "      <th>CORRUPCIÓN</th>\n",
       "      <th>FAMILIA</th>\n",
       "      <th>JUSTICIA y LIBERTAD</th>\n",
       "      <th>CULTURA</th>\n",
       "      <th>ECONOMÍA</th>\n",
       "      <th>...</th>\n",
       "      <th>GRUPO</th>\n",
       "      <th>RELIGION</th>\n",
       "      <th>AGRAVIOS</th>\n",
       "      <th>SISTEMA PÚBLICO</th>\n",
       "      <th>INMIGRACIÓN</th>\n",
       "      <th>DESCONTENTO SOCIAL</th>\n",
       "      <th>IDEOLOGÍA NO PEYORATIVA</th>\n",
       "      <th>NOSTALGIA</th>\n",
       "      <th>PROGRESO</th>\n",
       "      <th>DEMOCRACIA</th>\n",
       "    </tr>\n",
       "  </thead>\n",
       "  <tbody>\n",
       "    <tr>\n",
       "      <th>0</th>\n",
       "      <td>0.153781</td>\n",
       "      <td>1.273335</td>\n",
       "      <td>0.297650</td>\n",
       "      <td>0.162402</td>\n",
       "      <td>0.114493</td>\n",
       "      <td>0.099366</td>\n",
       "      <td>0.421266</td>\n",
       "      <td>0.183024</td>\n",
       "      <td>0.049372</td>\n",
       "      <td>1.174255</td>\n",
       "      <td>...</td>\n",
       "      <td>0.515339</td>\n",
       "      <td>0.000000</td>\n",
       "      <td>0.018414</td>\n",
       "      <td>0.156330</td>\n",
       "      <td>0.0</td>\n",
       "      <td>0.224004</td>\n",
       "      <td>0.066254</td>\n",
       "      <td>0.261264</td>\n",
       "      <td>0.880315</td>\n",
       "      <td>0.202981</td>\n",
       "    </tr>\n",
       "    <tr>\n",
       "      <th>1</th>\n",
       "      <td>0.091082</td>\n",
       "      <td>0.322897</td>\n",
       "      <td>0.059421</td>\n",
       "      <td>0.000000</td>\n",
       "      <td>0.165110</td>\n",
       "      <td>0.073952</td>\n",
       "      <td>0.034247</td>\n",
       "      <td>0.135191</td>\n",
       "      <td>0.022679</td>\n",
       "      <td>1.587645</td>\n",
       "      <td>...</td>\n",
       "      <td>0.745030</td>\n",
       "      <td>0.000000</td>\n",
       "      <td>0.126004</td>\n",
       "      <td>0.147346</td>\n",
       "      <td>0.0</td>\n",
       "      <td>0.204567</td>\n",
       "      <td>0.124950</td>\n",
       "      <td>0.075366</td>\n",
       "      <td>0.471511</td>\n",
       "      <td>0.041741</td>\n",
       "    </tr>\n",
       "    <tr>\n",
       "      <th>2</th>\n",
       "      <td>0.000000</td>\n",
       "      <td>0.572231</td>\n",
       "      <td>0.133951</td>\n",
       "      <td>0.670357</td>\n",
       "      <td>0.076088</td>\n",
       "      <td>0.421055</td>\n",
       "      <td>0.309731</td>\n",
       "      <td>0.329399</td>\n",
       "      <td>0.000000</td>\n",
       "      <td>0.598401</td>\n",
       "      <td>...</td>\n",
       "      <td>0.269585</td>\n",
       "      <td>0.000000</td>\n",
       "      <td>0.106195</td>\n",
       "      <td>0.080909</td>\n",
       "      <td>0.0</td>\n",
       "      <td>0.238546</td>\n",
       "      <td>0.000000</td>\n",
       "      <td>0.384105</td>\n",
       "      <td>0.620907</td>\n",
       "      <td>0.388420</td>\n",
       "    </tr>\n",
       "    <tr>\n",
       "      <th>3</th>\n",
       "      <td>0.263712</td>\n",
       "      <td>0.383836</td>\n",
       "      <td>0.796039</td>\n",
       "      <td>0.486589</td>\n",
       "      <td>0.216400</td>\n",
       "      <td>0.705484</td>\n",
       "      <td>0.169202</td>\n",
       "      <td>0.159196</td>\n",
       "      <td>0.179514</td>\n",
       "      <td>0.820103</td>\n",
       "      <td>...</td>\n",
       "      <td>0.159206</td>\n",
       "      <td>0.000000</td>\n",
       "      <td>0.167556</td>\n",
       "      <td>0.299270</td>\n",
       "      <td>0.0</td>\n",
       "      <td>0.046754</td>\n",
       "      <td>0.419728</td>\n",
       "      <td>0.318445</td>\n",
       "      <td>1.452868</td>\n",
       "      <td>0.195886</td>\n",
       "    </tr>\n",
       "    <tr>\n",
       "      <th>4</th>\n",
       "      <td>0.041913</td>\n",
       "      <td>0.118614</td>\n",
       "      <td>0.165199</td>\n",
       "      <td>0.167734</td>\n",
       "      <td>0.108817</td>\n",
       "      <td>0.115945</td>\n",
       "      <td>0.150811</td>\n",
       "      <td>0.265670</td>\n",
       "      <td>0.008191</td>\n",
       "      <td>0.119925</td>\n",
       "      <td>...</td>\n",
       "      <td>1.213555</td>\n",
       "      <td>0.629169</td>\n",
       "      <td>0.000000</td>\n",
       "      <td>0.062929</td>\n",
       "      <td>0.0</td>\n",
       "      <td>0.164710</td>\n",
       "      <td>0.009018</td>\n",
       "      <td>0.032138</td>\n",
       "      <td>0.311917</td>\n",
       "      <td>0.289902</td>\n",
       "    </tr>\n",
       "  </tbody>\n",
       "</table>\n",
       "<p>5 rows × 26 columns</p>\n",
       "</div>"
      ],
      "text/plain": [
       "    SANIDAD  NACIONALISMO  EDUCACIÓN  VIOLENCIA  FEMINISMO  CORRUPCIÓN  \\\n",
       "0  0.153781      1.273335   0.297650   0.162402   0.114493    0.099366   \n",
       "1  0.091082      0.322897   0.059421   0.000000   0.165110    0.073952   \n",
       "2  0.000000      0.572231   0.133951   0.670357   0.076088    0.421055   \n",
       "3  0.263712      0.383836   0.796039   0.486589   0.216400    0.705484   \n",
       "4  0.041913      0.118614   0.165199   0.167734   0.108817    0.115945   \n",
       "\n",
       "    FAMILIA  JUSTICIA y LIBERTAD   CULTURA  ECONOMÍA  ...     GRUPO  RELIGION  \\\n",
       "0  0.421266             0.183024  0.049372  1.174255  ...  0.515339  0.000000   \n",
       "1  0.034247             0.135191  0.022679  1.587645  ...  0.745030  0.000000   \n",
       "2  0.309731             0.329399  0.000000  0.598401  ...  0.269585  0.000000   \n",
       "3  0.169202             0.159196  0.179514  0.820103  ...  0.159206  0.000000   \n",
       "4  0.150811             0.265670  0.008191  0.119925  ...  1.213555  0.629169   \n",
       "\n",
       "   AGRAVIOS  SISTEMA PÚBLICO  INMIGRACIÓN  DESCONTENTO SOCIAL   \\\n",
       "0  0.018414         0.156330          0.0             0.224004   \n",
       "1  0.126004         0.147346          0.0             0.204567   \n",
       "2  0.106195         0.080909          0.0             0.238546   \n",
       "3  0.167556         0.299270          0.0             0.046754   \n",
       "4  0.000000         0.062929          0.0             0.164710   \n",
       "\n",
       "   IDEOLOGÍA NO PEYORATIVA  NOSTALGIA  PROGRESO  DEMOCRACIA  \n",
       "0                 0.066254   0.261264  0.880315    0.202981  \n",
       "1                 0.124950   0.075366  0.471511    0.041741  \n",
       "2                 0.000000   0.384105  0.620907    0.388420  \n",
       "3                 0.419728   0.318445  1.452868    0.195886  \n",
       "4                 0.009018   0.032138  0.311917    0.289902  \n",
       "\n",
       "[5 rows x 26 columns]"
      ]
     },
     "execution_count": 5,
     "metadata": {},
     "output_type": "execute_result"
    }
   ],
   "source": [
    "# Sumatoria de los valores de TF-IDF de las palabras que conforman un tema\n",
    "df_agrupado= pd.DataFrame()\n",
    "for ind,tema in enumerate(dict_bolsa_div.keys()):\n",
    "    df_agrupado[tema] = df_tfidf[palabras_agrupadas[ind]].sum(axis=1)\n",
    "\n",
    "df_agrupado.head()"
   ]
  },
  {
   "attachments": {},
   "cell_type": "markdown",
   "metadata": {},
   "source": [
    "## K-MEANS CON 5 CLUSTERS"
   ]
  },
  {
   "cell_type": "code",
   "execution_count": 6,
   "metadata": {},
   "outputs": [
    {
     "data": {
      "text/plain": [
       "array([1, 1, 1, 4, 0, 0, 2, 2, 0, 4, 4, 4, 2, 1, 3, 0, 2, 3, 2, 4, 1, 1,\n",
       "       1, 1])"
      ]
     },
     "execution_count": 6,
     "metadata": {},
     "output_type": "execute_result"
    }
   ],
   "source": [
    "# Modelo K-Means para 5 clusters\n",
    "kmeans_5 = KMeans(n_clusters=5, random_state = 5)\n",
    "kmeans_5.fit(df_agrupado)\n",
    "kmeans_5.labels_"
   ]
  },
  {
   "cell_type": "code",
   "execution_count": 7,
   "metadata": {},
   "outputs": [
    {
     "data": {
      "image/png": "[encoded data removed]",
      "text/plain": [
       "<Figure size 2000x200 with 5 Axes>"
      ]
     },
     "metadata": {},
     "output_type": "display_data"
    }
   ],
   "source": [
    "# DataFrame peso de cada tema dentro de cada cluster\n",
    "df_centroides_5 = pd.DataFrame(data = kmeans_5.cluster_centers_, columns = [df_agrupado.columns]).T\n",
    "df_centroides_5 = df_centroides_5.reset_index()\n",
    "df_centroides_5.columns = ['TEMA', 'Emociones', 'Emociones-Progreso', \"Infraestructura y Servicios\", \"Nacionalismo y Popular\", \"Progreso\"]\n",
    "\n",
    "# Gráfico de barras horizontales de los temas del cluster vs. peso\n",
    "fig, axes= plt.subplots(1, 5, figsize=(20, 2))\n",
    "fig.suptitle('Peso de temas por cluster', fontsize=30)\n",
    "\n",
    "for ind, colum in enumerate(df_centroides_5.columns[1:]):\n",
    "    x = df_centroides_5.sort_values([colum], ascending=False)[colum].head(5)\n",
    "    y = df_centroides_5.sort_values([colum], ascending=False)['TEMA'].head(5)\n",
    "\n",
    "    ax = axes[ind]\n",
    "    ax.barh(y, x, height=0.7, color='#2275DF')\n",
    "    ax.invert_yaxis()\n",
    "    ax.tick_params(axis='y', labelsize=7)\n",
    "    ax.set_title(colum, fontdict={\"fontsize\": 13})\n",
    "    \n",
    "\n",
    "plt.subplots_adjust(top=0.6, bottom=0.05, wspace=0.70, hspace=0.9)\n",
    "plt.show()"
   ]
  },
  {
   "cell_type": "code",
   "execution_count": 8,
   "metadata": {},
   "outputs": [
    {
     "data": {
      "application/vnd.plotly.v1+json": {
       "config": {
        "plotlyServerURL": "https://plot.ly"
       },
       "data": [
        {
         "branchvalues": "total",
         "domain": {
          "x": [
           0,
           1
          ],
          "y": [
           0,
           1
          ]
         },
         "hovertemplate": "labels=%{label}<br>count=%{value}<br>parent=%{parent}<br>id=%{id}<extra></extra>",
         "ids": [
          "Clusters de Discursos/Progreso/COLOMBIA/Cambio Radical",
          "Clusters de Discursos/Progreso/COLOMBIA/Centro Democrático",
          "Clusters de Discursos/Progreso/CHILE/Chile vamos",
          "Clusters de Discursos/Emociones-Progreso/ESPAÑA/Ciudadanos",
          "Clusters de Discursos/Progreso/COLOMBIA/Compromiso ciudadano",
          "Clusters de Discursos/Emociones-Progreso/ARGENTINA/Consenso federal",
          "Clusters de Discursos/Emociones/CHILE/Convergencia Democracia",
          "Clusters de Discursos/Emociones-Progreso/ARGENTINA/El frente de todos",
          "Clusters de Discursos/Emociones/CHILE/Frente Amplio",
          "Clusters de Discursos/Emociones-Progreso/URUGUAY/Frente amplio",
          "Clusters de Discursos/Infraestructura y Servicios/MEXICO/Juntos Haremos Historia",
          "Clusters de Discursos/Progreso/MEXICO/Movimiento Ciudadano",
          "Clusters de Discursos/Infraestructura y Servicios/CHILE/Nueva Mayoría",
          "Clusters de Discursos/Nacionalismo y Popular/ESPAÑA/PP",
          "Clusters de Discursos/Emociones-Progreso/ARGENTINA/PRO",
          "Clusters de Discursos/Emociones/ESPAÑA/PSOE",
          "Clusters de Discursos/Emociones-Progreso/URUGUAY/Partido nacional",
          "Clusters de Discursos/Emociones-Progreso/MEXICO/Por Mexico al Frente",
          "Clusters de Discursos/Emociones-Progreso/MEXICO/Todos por Mexico",
          "Clusters de Discursos/Infraestructura y Servicios/ESPAÑA/UNIDAS PODEMOS",
          "Clusters de Discursos/Emociones/CHILE/Unión Patriótica",
          "Clusters de Discursos/Infraestructura y Servicios/COLOMBIA/Unión patriótica",
          "Clusters de Discursos/Nacionalismo y Popular/ESPAÑA/VOX",
          "Clusters de Discursos/Infraestructura y Servicios/CHILE/por todo chile",
          "Clusters de Discursos/Emociones-Progreso/ARGENTINA",
          "Clusters de Discursos/Emociones/CHILE",
          "Clusters de Discursos/Infraestructura y Servicios/CHILE",
          "Clusters de Discursos/Progreso/CHILE",
          "Clusters de Discursos/Infraestructura y Servicios/COLOMBIA",
          "Clusters de Discursos/Progreso/COLOMBIA",
          "Clusters de Discursos/Emociones/ESPAÑA",
          "Clusters de Discursos/Emociones-Progreso/ESPAÑA",
          "Clusters de Discursos/Infraestructura y Servicios/ESPAÑA",
          "Clusters de Discursos/Nacionalismo y Popular/ESPAÑA",
          "Clusters de Discursos/Emociones-Progreso/MEXICO",
          "Clusters de Discursos/Infraestructura y Servicios/MEXICO",
          "Clusters de Discursos/Progreso/MEXICO",
          "Clusters de Discursos/Emociones-Progreso/URUGUAY",
          "Clusters de Discursos/Emociones",
          "Clusters de Discursos/Emociones-Progreso",
          "Clusters de Discursos/Infraestructura y Servicios",
          "Clusters de Discursos/Nacionalismo y Popular",
          "Clusters de Discursos/Progreso",
          "Clusters de Discursos"
         ],
         "labels": [
          "Cambio Radical",
          "Centro Democrático",
          "Chile vamos",
          "Ciudadanos",
          "Compromiso ciudadano",
          "Consenso federal",
          "Convergencia Democracia",
          "El frente de todos",
          "Frente Amplio",
          "Frente amplio",
          "Juntos Haremos Historia",
          "Movimiento Ciudadano",
          "Nueva Mayoría",
          "PP",
          "PRO",
          "PSOE",
          "Partido nacional",
          "Por Mexico al Frente",
          "Todos por Mexico",
          "UNIDAS PODEMOS",
          "Unión Patriótica",
          "Unión patriótica",
          "VOX",
          "por todo chile",
          "ARGENTINA",
          "CHILE",
          "CHILE",
          "CHILE",
          "COLOMBIA",
          "COLOMBIA",
          "ESPAÑA",
          "ESPAÑA",
          "ESPAÑA",
          "ESPAÑA",
          "MEXICO",
          "MEXICO",
          "MEXICO",
          "URUGUAY",
          "Emociones",
          "Emociones-Progreso",
          "Infraestructura y Servicios",
          "Nacionalismo y Popular",
          "Progreso",
          "Clusters de Discursos"
         ],
         "name": "",
         "parents": [
          "Clusters de Discursos/Progreso/COLOMBIA",
          "Clusters de Discursos/Progreso/COLOMBIA",
          "Clusters de Discursos/Progreso/CHILE",
          "Clusters de Discursos/Emociones-Progreso/ESPAÑA",
          "Clusters de Discursos/Progreso/COLOMBIA",
          "Clusters de Discursos/Emociones-Progreso/ARGENTINA",
          "Clusters de Discursos/Emociones/CHILE",
          "Clusters de Discursos/Emociones-Progreso/ARGENTINA",
          "Clusters de Discursos/Emociones/CHILE",
          "Clusters de Discursos/Emociones-Progreso/URUGUAY",
          "Clusters de Discursos/Infraestructura y Servicios/MEXICO",
          "Clusters de Discursos/Progreso/MEXICO",
          "Clusters de Discursos/Infraestructura y Servicios/CHILE",
          "Clusters de Discursos/Nacionalismo y Popular/ESPAÑA",
          "Clusters de Discursos/Emociones-Progreso/ARGENTINA",
          "Clusters de Discursos/Emociones/ESPAÑA",
          "Clusters de Discursos/Emociones-Progreso/URUGUAY",
          "Clusters de Discursos/Emociones-Progreso/MEXICO",
          "Clusters de Discursos/Emociones-Progreso/MEXICO",
          "Clusters de Discursos/Infraestructura y Servicios/ESPAÑA",
          "Clusters de Discursos/Emociones/CHILE",
          "Clusters de Discursos/Infraestructura y Servicios/COLOMBIA",
          "Clusters de Discursos/Nacionalismo y Popular/ESPAÑA",
          "Clusters de Discursos/Infraestructura y Servicios/CHILE",
          "Clusters de Discursos/Emociones-Progreso",
          "Clusters de Discursos/Emociones",
          "Clusters de Discursos/Infraestructura y Servicios",
          "Clusters de Discursos/Progreso",
          "Clusters de Discursos/Infraestructura y Servicios",
          "Clusters de Discursos/Progreso",
          "Clusters de Discursos/Emociones",
          "Clusters de Discursos/Emociones-Progreso",
          "Clusters de Discursos/Infraestructura y Servicios",
          "Clusters de Discursos/Nacionalismo y Popular",
          "Clusters de Discursos/Emociones-Progreso",
          "Clusters de Discursos/Infraestructura y Servicios",
          "Clusters de Discursos/Progreso",
          "Clusters de Discursos/Emociones-Progreso",
          "Clusters de Discursos",
          "Clusters de Discursos",
          "Clusters de Discursos",
          "Clusters de Discursos",
          "Clusters de Discursos",
          ""
         ],
         "root": {
          "color": "lightgrey"
         },
         "type": "treemap",
         "values": [
          1,
          1,
          1,
          1,
          1,
          1,
          1,
          1,
          1,
          1,
          1,
          1,
          1,
          1,
          1,
          1,
          1,
          1,
          1,
          1,
          1,
          1,
          1,
          1,
          3,
          3,
          2,
          1,
          1,
          3,
          1,
          1,
          1,
          2,
          2,
          1,
          1,
          2,
          4,
          8,
          5,
          2,
          5,
          24
         ]
        }
       ],
       "layout": {
        "legend": {
         "tracegroupgap": 0
        },
        "margin": {
         "b": 25,
         "l": 25,
         "r": 25,
         "t": 50
        },
        "template": {
         "data": {
          "bar": [
           {
            "error_x": {
             "color": "#2a3f5f"
            },
            "error_y": {
             "color": "#2a3f5f"
            },
            "marker": {
             "line": {
              "color": "#E5ECF6",
              "width": 0.5
             },
             "pattern": {
              "fillmode": "overlay",
              "size": 10,
              "solidity": 0.2
             }
            },
            "type": "bar"
           }
          ],
          "barpolar": [
           {
            "marker": {
             "line": {
              "color": "#E5ECF6",
              "width": 0.5
             },
             "pattern": {
              "fillmode": "overlay",
              "size": 10,
              "solidity": 0.2
             }
            },
            "type": "barpolar"
           }
          ],
          "carpet": [
           {
            "aaxis": {
             "endlinecolor": "#2a3f5f",
             "gridcolor": "white",
             "linecolor": "white",
             "minorgridcolor": "white",
             "startlinecolor": "#2a3f5f"
            },
            "baxis": {
             "endlinecolor": "#2a3f5f",
             "gridcolor": "white",
             "linecolor": "white",
             "minorgridcolor": "white",
             "startlinecolor": "#2a3f5f"
            },
            "type": "carpet"
           }
          ],
          "choropleth": [
           {
            "colorbar": {
             "outlinewidth": 0,
             "ticks": ""
            },
            "type": "choropleth"
           }
          ],
          "contour": [
           {
            "colorbar": {
             "outlinewidth": 0,
             "ticks": ""
            },
            "colorscale": [
             [
              0,
              "#0d0887"
             ],
             [
              0.1111111111111111,
              "#46039f"
             ],
             [
              0.2222222222222222,
              "#7201a8"
             ],
             [
              0.3333333333333333,
              "#9c179e"
             ],
             [
              0.4444444444444444,
              "#bd3786"
             ],
             [
              0.5555555555555556,
              "#d8576b"
             ],
             [
              0.6666666666666666,
              "#ed7953"
             ],
             [
              0.7777777777777778,
              "#fb9f3a"
             ],
             [
              0.8888888888888888,
              "#fdca26"
             ],
             [
              1,
              "#f0f921"
             ]
            ],
            "type": "contour"
           }
          ],
          "contourcarpet": [
           {
            "colorbar": {
             "outlinewidth": 0,
             "ticks": ""
            },
            "type": "contourcarpet"
           }
          ],
          "heatmap": [
           {
            "colorbar": {
             "outlinewidth": 0,
             "ticks": ""
            },
            "colorscale": [
             [
              0,
              "#0d0887"
             ],
             [
              0.1111111111111111,
              "#46039f"
             ],
             [
              0.2222222222222222,
              "#7201a8"
             ],
             [
              0.3333333333333333,
              "#9c179e"
             ],
             [
              0.4444444444444444,
              "#bd3786"
             ],
             [
              0.5555555555555556,
              "#d8576b"
             ],
             [
              0.6666666666666666,
              "#ed7953"
             ],
             [
              0.7777777777777778,
              "#fb9f3a"
             ],
             [
              0.8888888888888888,
              "#fdca26"
             ],
             [
              1,
              "#f0f921"
             ]
            ],
            "type": "heatmap"
           }
          ],
          "heatmapgl": [
           {
            "colorbar": {
             "outlinewidth": 0,
             "ticks": ""
            },
            "colorscale": [
             [
              0,
              "#0d0887"
             ],
             [
              0.1111111111111111,
              "#46039f"
             ],
             [
              0.2222222222222222,
              "#7201a8"
             ],
             [
              0.3333333333333333,
              "#9c179e"
             ],
             [
              0.4444444444444444,
              "#bd3786"
             ],
             [
              0.5555555555555556,
              "#d8576b"
             ],
             [
              0.6666666666666666,
              "#ed7953"
             ],
             [
              0.7777777777777778,
              "#fb9f3a"
             ],
             [
              0.8888888888888888,
              "#fdca26"
             ],
             [
              1,
              "#f0f921"
             ]
            ],
            "type": "heatmapgl"
           }
          ],
          "histogram": [
           {
            "marker": {
             "pattern": {
              "fillmode": "overlay",
              "size": 10,
              "solidity": 0.2
             }
            },
            "type": "histogram"
           }
          ],
          "histogram2d": [
           {
            "colorbar": {
             "outlinewidth": 0,
             "ticks": ""
            },
            "colorscale": [
             [
              0,
              "#0d0887"
             ],
             [
              0.1111111111111111,
              "#46039f"
             ],
             [
              0.2222222222222222,
              "#7201a8"
             ],
             [
              0.3333333333333333,
              "#9c179e"
             ],
             [
              0.4444444444444444,
              "#bd3786"
             ],
             [
              0.5555555555555556,
              "#d8576b"
             ],
             [
              0.6666666666666666,
              "#ed7953"
             ],
             [
              0.7777777777777778,
              "#fb9f3a"
             ],
             [
              0.8888888888888888,
              "#fdca26"
             ],
             [
              1,
              "#f0f921"
             ]
            ],
            "type": "histogram2d"
           }
          ],
          "histogram2dcontour": [
           {
            "colorbar": {
             "outlinewidth": 0,
             "ticks": ""
            },
            "colorscale": [
             [
              0,
              "#0d0887"
             ],
             [
              0.1111111111111111,
              "#46039f"
             ],
             [
              0.2222222222222222,
              "#7201a8"
             ],
             [
              0.3333333333333333,
              "#9c179e"
             ],
             [
              0.4444444444444444,
              "#bd3786"
             ],
             [
              0.5555555555555556,
              "#d8576b"
             ],
             [
              0.6666666666666666,
              "#ed7953"
             ],
             [
              0.7777777777777778,
              "#fb9f3a"
             ],
             [
              0.8888888888888888,
              "#fdca26"
             ],
             [
              1,
              "#f0f921"
             ]
            ],
            "type": "histogram2dcontour"
           }
          ],
          "mesh3d": [
           {
            "colorbar": {
             "outlinewidth": 0,
             "ticks": ""
            },
            "type": "mesh3d"
           }
          ],
          "parcoords": [
           {
            "line": {
             "colorbar": {
              "outlinewidth": 0,
              "ticks": ""
             }
            },
            "type": "parcoords"
           }
          ],
          "pie": [
           {
            "automargin": true,
            "type": "pie"
           }
          ],
          "scatter": [
           {
            "fillpattern": {
             "fillmode": "overlay",
             "size": 10,
             "solidity": 0.2
            },
            "type": "scatter"
           }
          ],
          "scatter3d": [
           {
            "line": {
             "colorbar": {
              "outlinewidth": 0,
              "ticks": ""
             }
            },
            "marker": {
             "colorbar": {
              "outlinewidth": 0,
              "ticks": ""
             }
            },
            "type": "scatter3d"
           }
          ],
          "scattercarpet": [
           {
            "marker": {
             "colorbar": {
              "outlinewidth": 0,
              "ticks": ""
             }
            },
            "type": "scattercarpet"
           }
          ],
          "scattergeo": [
           {
            "marker": {
             "colorbar": {
              "outlinewidth": 0,
              "ticks": ""
             }
            },
            "type": "scattergeo"
           }
          ],
          "scattergl": [
           {
            "marker": {
             "colorbar": {
              "outlinewidth": 0,
              "ticks": ""
             }
            },
            "type": "scattergl"
           }
          ],
          "scattermapbox": [
           {
            "marker": {
             "colorbar": {
              "outlinewidth": 0,
              "ticks": ""
             }
            },
            "type": "scattermapbox"
           }
          ],
          "scatterpolar": [
           {
            "marker": {
             "colorbar": {
              "outlinewidth": 0,
              "ticks": ""
             }
            },
            "type": "scatterpolar"
           }
          ],
          "scatterpolargl": [
           {
            "marker": {
             "colorbar": {
              "outlinewidth": 0,
              "ticks": ""
             }
            },
            "type": "scatterpolargl"
           }
          ],
          "scatterternary": [
           {
            "marker": {
             "colorbar": {
              "outlinewidth": 0,
              "ticks": ""
             }
            },
            "type": "scatterternary"
           }
          ],
          "surface": [
           {
            "colorbar": {
             "outlinewidth": 0,
             "ticks": ""
            },
            "colorscale": [
             [
              0,
              "#0d0887"
             ],
             [
              0.1111111111111111,
              "#46039f"
             ],
             [
              0.2222222222222222,
              "#7201a8"
             ],
             [
              0.3333333333333333,
              "#9c179e"
             ],
             [
              0.4444444444444444,
              "#bd3786"
             ],
             [
              0.5555555555555556,
              "#d8576b"
             ],
             [
              0.6666666666666666,
              "#ed7953"
             ],
             [
              0.7777777777777778,
              "#fb9f3a"
             ],
             [
              0.8888888888888888,
              "#fdca26"
             ],
             [
              1,
              "#f0f921"
             ]
            ],
            "type": "surface"
           }
          ],
          "table": [
           {
            "cells": {
             "fill": {
              "color": "#EBF0F8"
             },
             "line": {
              "color": "white"
             }
            },
            "header": {
             "fill": {
              "color": "#C8D4E3"
             },
             "line": {
              "color": "white"
             }
            },
            "type": "table"
           }
          ]
         },
         "layout": {
          "annotationdefaults": {
           "arrowcolor": "#2a3f5f",
           "arrowhead": 0,
           "arrowwidth": 1
          },
          "autotypenumbers": "strict",
          "coloraxis": {
           "colorbar": {
            "outlinewidth": 0,
            "ticks": ""
           }
          },
          "colorscale": {
           "diverging": [
            [
             0,
             "#8e0152"
            ],
            [
             0.1,
             "#c51b7d"
            ],
            [
             0.2,
             "#de77ae"
            ],
            [
             0.3,
             "#f1b6da"
            ],
            [
             0.4,
             "#fde0ef"
            ],
            [
             0.5,
             "#f7f7f7"
            ],
            [
             0.6,
             "#e6f5d0"
            ],
            [
             0.7,
             "#b8e186"
            ],
            [
             0.8,
             "#7fbc41"
            ],
            [
             0.9,
             "#4d9221"
            ],
            [
             1,
             "#276419"
            ]
           ],
           "sequential": [
            [
             0,
             "#0d0887"
            ],
            [
             0.1111111111111111,
             "#46039f"
            ],
            [
             0.2222222222222222,
             "#7201a8"
            ],
            [
             0.3333333333333333,
             "#9c179e"
            ],
            [
             0.4444444444444444,
             "#bd3786"
            ],
            [
             0.5555555555555556,
             "#d8576b"
            ],
            [
             0.6666666666666666,
             "#ed7953"
            ],
            [
             0.7777777777777778,
             "#fb9f3a"
            ],
            [
             0.8888888888888888,
             "#fdca26"
            ],
            [
             1,
             "#f0f921"
            ]
           ],
           "sequentialminus": [
            [
             0,
             "#0d0887"
            ],
            [
             0.1111111111111111,
             "#46039f"
            ],
            [
             0.2222222222222222,
             "#7201a8"
            ],
            [
             0.3333333333333333,
             "#9c179e"
            ],
            [
             0.4444444444444444,
             "#bd3786"
            ],
            [
             0.5555555555555556,
             "#d8576b"
            ],
            [
             0.6666666666666666,
             "#ed7953"
            ],
            [
             0.7777777777777778,
             "#fb9f3a"
            ],
            [
             0.8888888888888888,
             "#fdca26"
            ],
            [
             1,
             "#f0f921"
            ]
           ]
          },
          "colorway": [
           "#636efa",
           "#EF553B",
           "#00cc96",
           "#ab63fa",
           "#FFA15A",
           "#19d3f3",
           "#FF6692",
           "#B6E880",
           "#FF97FF",
           "#FECB52"
          ],
          "font": {
           "color": "#2a3f5f"
          },
          "geo": {
           "bgcolor": "white",
           "lakecolor": "white",
           "landcolor": "#E5ECF6",
           "showlakes": true,
           "showland": true,
           "subunitcolor": "white"
          },
          "hoverlabel": {
           "align": "left"
          },
          "hovermode": "closest",
          "mapbox": {
           "style": "light"
          },
          "paper_bgcolor": "white",
          "plot_bgcolor": "#E5ECF6",
          "polar": {
           "angularaxis": {
            "gridcolor": "white",
            "linecolor": "white",
            "ticks": ""
           },
           "bgcolor": "#E5ECF6",
           "radialaxis": {
            "gridcolor": "white",
            "linecolor": "white",
            "ticks": ""
           }
          },
          "scene": {
           "xaxis": {
            "backgroundcolor": "#E5ECF6",
            "gridcolor": "white",
            "gridwidth": 2,
            "linecolor": "white",
            "showbackground": true,
            "ticks": "",
            "zerolinecolor": "white"
           },
           "yaxis": {
            "backgroundcolor": "#E5ECF6",
            "gridcolor": "white",
            "gridwidth": 2,
            "linecolor": "white",
            "showbackground": true,
            "ticks": "",
            "zerolinecolor": "white"
           },
           "zaxis": {
            "backgroundcolor": "#E5ECF6",
            "gridcolor": "white",
            "gridwidth": 2,
            "linecolor": "white",
            "showbackground": true,
            "ticks": "",
            "zerolinecolor": "white"
           }
          },
          "shapedefaults": {
           "line": {
            "color": "#2a3f5f"
           }
          },
          "ternary": {
           "aaxis": {
            "gridcolor": "white",
            "linecolor": "white",
            "ticks": ""
           },
           "baxis": {
            "gridcolor": "white",
            "linecolor": "white",
            "ticks": ""
           },
           "bgcolor": "#E5ECF6",
           "caxis": {
            "gridcolor": "white",
            "linecolor": "white",
            "ticks": ""
           }
          },
          "title": {
           "x": 0.05
          },
          "xaxis": {
           "automargin": true,
           "gridcolor": "white",
           "linecolor": "white",
           "ticks": "",
           "title": {
            "standoff": 15
           },
           "zerolinecolor": "white",
           "zerolinewidth": 2
          },
          "yaxis": {
           "automargin": true,
           "gridcolor": "white",
           "linecolor": "white",
           "ticks": "",
           "title": {
            "standoff": 15
           },
           "zerolinecolor": "white",
           "zerolinewidth": 2
          }
         }
        },
        "treemapcolorway": [
         "#BCDD8D",
         "#2275DF",
         "#5CE1E6",
         "#f9dc5c",
         "#D12462"
        ]
       }
      }
     },
     "metadata": {},
     "output_type": "display_data"
    }
   ],
   "source": [
    "# Actualización del DataFrame de discursos con los clusters del modelo K-means\n",
    "df_discursos_cluster = datos_discursos.df_discursos.copy()\n",
    "df_discursos_cluster['CLUSTER_5']= kmeans_5.labels_\n",
    "df_discursos_cluster['NOMBRE_CLUSTER_5']= kmeans_5.labels_\n",
    "df_discursos_cluster['NOMBRE_CLUSTER_5'].replace(0,'Emociones', inplace=True)\n",
    "df_discursos_cluster['NOMBRE_CLUSTER_5'].replace(1,'Emociones-Progreso', inplace=True)\n",
    "df_discursos_cluster['NOMBRE_CLUSTER_5'].replace(2,\"Infraestructura y Servicios\", inplace=True)\n",
    "df_discursos_cluster['NOMBRE_CLUSTER_5'].replace(3,\"Nacionalismo y Popular\", inplace=True)\n",
    "df_discursos_cluster['NOMBRE_CLUSTER_5'].replace(4,\"Progreso\", inplace=True)\n",
    "\n",
    "# Gráfico Treemap de los clusters\n",
    "fig = px.treemap(df_discursos_cluster, path=[px.Constant(\"Clusters de Discursos\"), 'NOMBRE_CLUSTER_5', 'PAIS', 'COALICION'])\n",
    "fig.update_traces(root_color=\"lightgrey\")\n",
    "fig.update_layout(\n",
    "    treemapcolorway = ['#BCDD8D','#2275DF', '#5CE1E6','#f9dc5c','#D12462'],\n",
    "    margin = dict(t=50, l=25, r=25, b=25)\n",
    ")\n",
    "fig.show()"
   ]
  },
  {
   "attachments": {},
   "cell_type": "markdown",
   "metadata": {},
   "source": [
    "        PREDICCIÓNES"
   ]
  },
  {
   "cell_type": "code",
   "execution_count": 9,
   "metadata": {},
   "outputs": [
    {
     "name": "stdout",
     "output_type": "stream",
     "text": [
      "Running on local URL:  http://127.0.0.1:7860\n",
      "\n",
      "To create a public link, set `share=True` in `launch()`.\n"
     ]
    },
    {
     "data": {
      "text/html": [
       "<div><iframe src=\"http://127.0.0.1:7860/\" width=\"100%\" height=\"500\" allow=\"autoplay; camera; microphone; clipboard-read; clipboard-write;\" frameborder=\"0\" allowfullscreen></iframe></div>"
      ],
      "text/plain": [
       "<IPython.core.display.HTML object>"
      ]
     },
     "metadata": {},
     "output_type": "display_data"
    },
    {
     "data": {
      "text/plain": []
     },
     "execution_count": 9,
     "metadata": {},
     "output_type": "execute_result"
    },
    {
     "name": "stderr",
     "output_type": "stream",
     "text": [
      "c:\\Users\\Ranchos\\AppData\\Local\\Programs\\Python\\Python310\\lib\\site-packages\\sklearn\\utils\\deprecation.py:87: FutureWarning:\n",
      "\n",
      "Function get_feature_names is deprecated; get_feature_names is deprecated in 1.0 and will be removed in 1.2. Please use get_feature_names_out instead.\n",
      "\n",
      "c:\\Users\\Ranchos\\AppData\\Local\\Programs\\Python\\Python310\\lib\\site-packages\\sklearn\\utils\\deprecation.py:87: FutureWarning:\n",
      "\n",
      "Function get_feature_names is deprecated; get_feature_names is deprecated in 1.0 and will be removed in 1.2. Please use get_feature_names_out instead.\n",
      "\n",
      "c:\\Users\\Ranchos\\AppData\\Local\\Programs\\Python\\Python310\\lib\\site-packages\\sklearn\\utils\\deprecation.py:87: FutureWarning:\n",
      "\n",
      "Function get_feature_names is deprecated; get_feature_names is deprecated in 1.0 and will be removed in 1.2. Please use get_feature_names_out instead.\n",
      "\n"
     ]
    }
   ],
   "source": [
    "import gradio as gr\n",
    "\n",
    "def prediccion_discurso(nombre_archivo):    \n",
    "    # Cargamos un nuevo discurso que no forma parte del entrenamiento.\n",
    "    discurso_txt = open_discursos.abrir_discurso('./', 'predic', nombre_archivo)\n",
    "    discurso_token = token_clean.token(discurso_txt)\n",
    "    discurso_clean = token_clean.clean(discurso_token)\n",
    "\n",
    "    # Palabras del discurso que se encuentra en la bolsa de palabras\n",
    "    palabras_predict = list()\n",
    "    for palabra in discurso_clean:\n",
    "        if palabra in datos_discursos.lista_palabras_bolsa:\n",
    "            palabras_predict.append(palabra)\n",
    "\n",
    "    # TF-IDF palabras del discurso\n",
    "    tfidf_pre = procesamiento_palabras.palabra_tfidf([palabras_predict])\n",
    "\n",
    "    # DataFrame con todas las palabras de la bolsa de palabas. Tendrán valor solo las que estén en el discurso\n",
    "    df_predict = pd.DataFrame(columns=df_tfidf.columns)\n",
    "    for colum in df_predict.columns:\n",
    "        if colum in tfidf_pre.columns:\n",
    "            df_predict[colum] = tfidf_pre[colum].values\n",
    "        else:\n",
    "            df_predict[colum] = float(0)\n",
    "\n",
    "    # Suma de los pesos de las palabras de cada tema (agrupación por tema)\n",
    "    df_tema= pd.DataFrame()\n",
    "    for ind,tema in enumerate(dict_bolsa_div.keys()):\n",
    "        df_tema[tema] = df_predict[palabras_agrupadas[ind]].sum(axis=1)\n",
    "\n",
    "    # Predicción del cluster\n",
    "    etiqueta = ['Emociones','Emociones-Progreso',\"Infraestructura y Servicios\",\"Nacionalismo y Popular\",\"Progreso\"]\n",
    "    num_cluster = kmeans_5.predict(df_tema)[0]\n",
    "     \n",
    "    return etiqueta[num_cluster]\n",
    "\n",
    "gr.Interface(fn=prediccion_discurso, inputs=\"text\", outputs=\"text\").launch()"
   ]
  }
 ],
 "metadata": {
  "kernelspec": {
   "display_name": "Python 3",
   "language": "python",
   "name": "python3"
  },
  "language_info": {
   "codemirror_mode": {
    "name": "ipython",
    "version": 3
   },
   "file_extension": ".py",
   "mimetype": "text/x-python",
   "name": "python",
   "nbconvert_exporter": "python",
   "pygments_lexer": "ipython3",
   "version": "3.10.4 (tags/v3.10.4:9d38120, Mar 23 2022, 23:13:41) [MSC v.1929 64 bit (AMD64)]"
  },
  "orig_nbformat": 4,
  "vscode": {
   "interpreter": {
    "hash": "5b0dd0afae25dc38cdce0d2294250472deafc89a49f37739674ad720c91afe2b"
   }
  }
 },
 "nbformat": 4,
 "nbformat_minor": 2
}
