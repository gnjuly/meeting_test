{
 "cells": [
  {
   "attachments": {},
   "cell_type": "markdown",
   "metadata": {},
   "source": [
    "## TRANSCRIPCIÓN DE VIDEOS Y AUDIOS"
   ]
  },
  {
   "cell_type": "code",
   "execution_count": 6,
   "metadata": {},
   "outputs": [],
   "source": [
    "# Youtube script\n",
    "# Transcribe videos de YouTube a formato .txt\n",
    "import pytube\n",
    "import whisper\n",
    "\n",
    "url_youtube =   # \"link video youtube\"\n",
    "video_youtube = pytube.YouTube(url_youtube)\n",
    "\n",
    "audio = video_youtube.streams.get_audio_only()\n",
    "filename =    # 'nombredearchivo.mp4'\n",
    "audio.download(filename)\n",
    "\n",
    "model = whisper.load_model('large')\n",
    "result = model.transcribe('download/'+filename, fp16=False, language=\"es\")\n",
    "\n",
    "with open(f\"download/nombrearchivo.txt\", \"w\") as f:\n",
    "  f.write(result[\"text\"])"
   ]
  },
  {
   "cell_type": "code",
   "execution_count": 4,
   "metadata": {},
   "outputs": [],
   "source": [
    "# Descargar audio de video de Youtube en formato .mp4\n",
    "from pytube import YouTube\n",
    "import os\n",
    "\n",
    "def downloadYouTube(videourl, path):\n",
    "    yt = YouTube(videourl)\n",
    "    yt = yt.streams.filter(progressive=True, file_extension='mp4').order_by('resolution').desc().first()\n",
    "    if not os.path.exists(path):\n",
    "        os.makedirs(path)\n",
    "    yt.download(path, 'nombredearchivo.mp4')\n",
    "\n",
    "url_youtube = # \"link video youtube\"\n",
    "downloadYouTube(url_youtube, 'content')"
   ]
  },
  {
   "cell_type": "code",
   "execution_count": 1,
   "metadata": {},
   "outputs": [],
   "source": [
    "# Cortar el video\n",
    "from moviepy.editor import *\n",
    "\n",
    "# loading video gfg\n",
    "clip = VideoFileClip(\"./content/nombrevideo.mp4\")\n",
    "\n",
    "cortado = clip.subclip(5850, 7872)          # segundos extraídos\n",
    "cortado.write_videofile(\"nombrevideoeditado.mp4\")"
   ]
  },
  {
   "cell_type": "code",
   "execution_count": 1,
   "metadata": {},
   "outputs": [],
   "source": [
    "# Transcripción de audio a formato .txt\n",
    "import whisper\n",
    "\n",
    "model = whisper.load_model(\"large\")\n",
    "result = model.transcribe('nombredearchivo.mp4', fp16=False, language=\"es\")\n",
    "\n",
    "with open(f\"nombrearchivo.txt\", \"w\") as f:\n",
    "  f.write(result[\"text\"])\n",
    "# print(result[\"text\"])"
   ]
  }
 ],
 "metadata": {
  "kernelspec": {
   "display_name": "Python 3.10.4 64-bit",
   "language": "python",
   "name": "python3"
  },
  "language_info": {
   "codemirror_mode": {
    "name": "ipython",
    "version": 3
   },
   "file_extension": ".py",
   "mimetype": "text/x-python",
   "name": "python",
   "nbconvert_exporter": "python",
   "pygments_lexer": "ipython3",
   "version": "3.10.4 (tags/v3.10.4:9d38120, Mar 23 2022, 23:13:41) [MSC v.1929 64 bit (AMD64)]"
  },
  "orig_nbformat": 4,
  "vscode": {
   "interpreter": {
    "hash": "5b0dd0afae25dc38cdce0d2294250472deafc89a49f37739674ad720c91afe2b"
   }
  }
 },
 "nbformat": 4,
 "nbformat_minor": 2
}
